{
 "cells": [
  {
   "cell_type": "code",
   "execution_count": 27,
   "metadata": {},
   "outputs": [
    {
     "name": "stdout",
     "output_type": "stream",
     "text": [
      "Enter numbers of English :90\n",
      "Enter numbers of Math :85\n",
      "Enter numbers of Physics :80\n",
      "Enter numbers of Chemistry :85\n",
      "Enter numbers of Islamiat :90\n",
      "Enter numbers of Urdu 95\n",
      "The percentage is = 87.5\n",
      "your grade is A+\n"
     ]
    }
   ],
   "source": [
    "# Assignment 2\n",
    "\n",
    "subject_1=int(input(\"Enter numbers of English :\"))\n",
    "subject_2=int(input(\"Enter numbers of Math :\"))\n",
    "subject_3=int(input(\"Enter numbers of Physics :\"))\n",
    "subject_4=int(input(\"Enter numbers of Chemistry :\"))\n",
    "subject_5=int(input(\"Enter numbers of Islamiat :\"))\n",
    "subject_6=int(input(\"Enter numbers of Urdu \"))\n",
    "total_marks=600\n",
    "if (subject_1 <=100 and subject_2 <=100 and subject_3 <=100 and subject_4 <=100 and subject_5 <=100 and subject_6 <=100) :\n",
    "    Obtained_marks=subject_1+subject_2+subject_3+subject_4+subject_5+subject_6\n",
    "    per=(Obtained_marks/total_marks)*100\n",
    "    print(\"The percentage is =\",per)\n",
    "    if per>=80 and per<=100:\n",
    "        print(\"your grade is A+\")\n",
    "    elif (per>=70 and per<80):\n",
    "        print(\"your grade is A\")\n",
    "    elif (per>=60 and per<70):\n",
    "        print(\"your grade is B\")\n",
    "    elif (per>=50 and per<60):\n",
    "        print(\"your grade is C\")\n",
    "    elif (per>=0 and per<50):\n",
    "        print(\"you are FAIL\")\n",
    "else :\n",
    "     print(\"invalid\")"
   ]
  },
  {
   "cell_type": "code",
   "execution_count": null,
   "metadata": {},
   "outputs": [],
   "source": []
  },
  {
   "cell_type": "code",
   "execution_count": null,
   "metadata": {},
   "outputs": [],
   "source": []
  }
 ],
 "metadata": {
  "kernelspec": {
   "display_name": "Python 3",
   "language": "python",
   "name": "python3"
  },
  "language_info": {
   "codemirror_mode": {
    "name": "ipython",
    "version": 3
   },
   "file_extension": ".py",
   "mimetype": "text/x-python",
   "name": "python",
   "nbconvert_exporter": "python",
   "pygments_lexer": "ipython3",
   "version": "3.7.4"
  }
 },
 "nbformat": 4,
 "nbformat_minor": 2
}
